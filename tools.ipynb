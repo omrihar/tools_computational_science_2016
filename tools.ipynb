{
 "cells": [
  {
   "cell_type": "code",
   "execution_count": 7,
   "metadata": {
    "ExecuteTime": {
     "end_time": "2016-11-08T13:36:16.276546",
     "start_time": "2016-11-08T13:36:16.270630"
    },
    "collapsed": false,
    "slideshow": {
     "slide_type": "skip"
    }
   },
   "outputs": [
    {
     "data": {
      "text/html": [
       "<link href=\"https://fonts.googleapis.com/css?family=Open+Sans:300,800|Roboto|Roboto+Condensed\" rel=\"stylesheet\">\n",
       "<style>\n",
       "    h1.my_title {\n",
       "        text-align: center;\n",
       "        display: block;\n",
       "        font-family: \"Open Sans Light\", sans-serif;\n",
       "        font-weight: 300\n",
       "    }\n",
       "    .my_name {\n",
       "        text-align: right;\n",
       "        display: block;\n",
       "        font-family: \"Open Sans\", sans-serif;\n",
       "        font-weight: 800;\n",
       "        font-size: 28px;\n",
       "        padding-bottom: 16px;\n",
       "    }\n",
       "    .my_affiliation {\n",
       "        text-align: right;\n",
       "        display: block;\n",
       "        font-family: \"Open Sans\", sans-serif;\n",
       "        font-weight: 300;\n",
       "        font-size: 28px;\n",
       "        padding-bottom:16px;\n",
       "    }\n",
       "    div.logos {\n",
       "        height: 400px;\n",
       "        text-align: left;\n",
       "        padding-top:30px;\n",
       "    }\n",
       "</style>"
      ],
      "text/plain": [
       "<IPython.core.display.HTML object>"
      ]
     },
     "metadata": {},
     "output_type": "display_data"
    }
   ],
   "source": [
    "%%html\n",
    "<link href=\"https://fonts.googleapis.com/css?family=Open+Sans:300,800|Roboto|Roboto+Condensed\" rel=\"stylesheet\">\n",
    "<style>\n",
    "    h1.my_title {\n",
    "        text-align: center;\n",
    "        display: block;\n",
    "        font-family: \"Open Sans Light\", sans-serif;\n",
    "        font-weight: 300\n",
    "    }\n",
    "    .my_name {\n",
    "        text-align: right;\n",
    "        display: block;\n",
    "        font-family: \"Open Sans\", sans-serif;\n",
    "        font-weight: 800;\n",
    "        font-size: 28px;\n",
    "        padding-bottom: 16px;\n",
    "    }\n",
    "    .my_affiliation {\n",
    "        text-align: right;\n",
    "        display: block;\n",
    "        font-family: \"Open Sans\", sans-serif;\n",
    "        font-weight: 300;\n",
    "        font-size: 28px;\n",
    "        padding-bottom:16px;\n",
    "    }\n",
    "    div.logos {\n",
    "        height: 400px;\n",
    "        text-align: left;\n",
    "        padding-top:30px;\n",
    "    }\n",
    "</style>"
   ]
  },
  {
   "cell_type": "code",
   "execution_count": 8,
   "metadata": {
    "ExecuteTime": {
     "end_time": "2016-11-08T14:46:25.863995",
     "start_time": "2016-11-08T14:46:25.797676"
    },
    "collapsed": true,
    "slideshow": {
     "slide_type": "skip"
    }
   },
   "outputs": [],
   "source": [
    "from IPython.display import display, display_html, IFrame"
   ]
  },
  {
   "cell_type": "code",
   "execution_count": 2,
   "metadata": {
    "ExecuteTime": {
     "end_time": "2016-11-08T13:15:47.096011",
     "start_time": "2016-11-08T13:15:46.969388"
    },
    "collapsed": false,
    "slideshow": {
     "slide_type": "skip"
    }
   },
   "outputs": [
    {
     "data": {
      "text/plain": [
       "'graph.svg'"
      ]
     },
     "execution_count": 2,
     "metadata": {},
     "output_type": "execute_result"
    }
   ],
   "source": [
    "from graphviz import Digraph, Graph\n",
    "\n",
    "dot = Graph(format=\"svg\")\n",
    "\n",
    "\n",
    "dot.node(\"A\", \"Computational Scientist\")\n",
    "dot.node(\"B\", \"Reading\")\n",
    "dot.node(\"C\", \"Writing\")\n",
    "dot.node(\"D\", \"Programming\")\n",
    "dot.node(\"E\", \"Presenting\")\n",
    "\n",
    "# dot.attr(\"node\", shape=\"square\")\n",
    "# dot.node(\"L\", \"Library\")\n",
    "# dot.node(\"M\", \"Mendeley\")\n",
    "# dot.node(\"G\", \"Google Scholar\")\n",
    "\n",
    "dot.edges([\"AB\", \"AC\", \"AD\", \"AE\"])\n",
    "# dot.edges([\"BL\", \"LM\", \"MG\"])\n",
    "# dot\n",
    "dot.render(\"graph\")"
   ]
  },
  {
   "cell_type": "markdown",
   "metadata": {
    "ExecuteTime": {
     "end_time": "2016-11-07T16:38:40.063209",
     "start_time": "2016-11-07T16:38:40.058375"
    },
    "slideshow": {
     "slide_type": "slide"
    }
   },
   "source": [
    "<h1 class=\"my_title\"> Tools of the Computational Scientist</h1>\n",
    "\n",
    "<div class=\"logos\">\n",
    "<img src=\"images/logos.svg\"></img>\n",
    "</div>\n",
    "\n",
    "<div id=\"affiliation\" style=\"bottom: 0;\">\n",
    "    <span class=\"my_name\">Omri Har-Shemesh</span>\n",
    "    <span class=\"my_affiliation\">PhD Candidate</span>\n",
    "    <span class=\"my_affiliation\">Computational Science Lab</span>\n",
    "</div>"
   ]
  },
  {
   "cell_type": "markdown",
   "metadata": {
    "ExecuteTime": {
     "end_time": "2016-11-08T11:42:53.413745",
     "start_time": "2016-11-08T11:42:53.403044"
    },
    "slideshow": {
     "slide_type": "subslide"
    }
   },
   "source": [
    "<img src=\"graph.svg\" width=\"100%\"></img>"
   ]
  },
  {
   "cell_type": "markdown",
   "metadata": {
    "slideshow": {
     "slide_type": "slide"
    }
   },
   "source": [
    "# Reading\n",
    "\n",
    "![](images/library.jpg)"
   ]
  },
  {
   "cell_type": "markdown",
   "metadata": {
    "slideshow": {
     "slide_type": "subslide"
    }
   },
   "source": [
    "# Reading\n",
    "\n",
    "- Library (http://uba.uva.nl/en)\n",
    "\n",
    "- Reference Managers:\n",
    "    - [Mendeley](http://www.mendeley.com)\n",
    "    - [Zotero](http://www.zotero.org)\n",
    "    - [ReadCube](http://www.readcube.com)\n",
    "    - [Paperpile](http://www.paperpile.com)\n",
    "    - ...\n",
    "\n",
    "- [Google Scholar](http://scholar.google.com)\n",
    "- [Web of science](https://apps.webofknowledge.com/WOS_GeneralSearch_input.do?product=WOS&search_mode=GeneralSearch&SID=P2pH5das4FHHHYqVLVM&preferencesSaved=)"
   ]
  },
  {
   "cell_type": "markdown",
   "metadata": {
    "slideshow": {
     "slide_type": "slide"
    }
   },
   "source": [
    "# Writing\n",
    "\n",
    "![](images/writing.jpg)"
   ]
  },
  {
   "cell_type": "markdown",
   "metadata": {
    "slideshow": {
     "slide_type": "subslide"
    }
   },
   "source": [
    "# Writing\n",
    "\n",
    "- Text Editor\n",
    "    - Vim\n",
    "    - Sublime Text 3\n",
    "    - PyCharm\n",
    "    - Emacs\n",
    "    - Atom.io\n",
    "    - ...\n",
    "    \n",
    "- Jupyter Notebook!"
   ]
  },
  {
   "cell_type": "markdown",
   "metadata": {
    "slideshow": {
     "slide_type": "subslide"
    }
   },
   "source": [
    "# Writing\n",
    "\n",
    "- Writing text\n",
    "    - Markdown + Pandoc\n",
    "    - LaTeX\n",
    "    - Overleaf (https://www.overleaf.com)\n",
    "    - Authorea (https://www.authorea.com)\n",
    "    - shareLaTeX\n",
    "    - Google Docs\n",
    "    - Microsoft Word\n",
    "    - ..."
   ]
  },
  {
   "cell_type": "code",
   "execution_count": 11,
   "metadata": {
    "ExecuteTime": {
     "end_time": "2016-11-08T14:47:57.830933",
     "start_time": "2016-11-08T14:47:57.825897"
    },
    "collapsed": false,
    "slideshow": {
     "slide_type": "subslide"
    }
   },
   "outputs": [
    {
     "data": {
      "text/html": [
       "\n",
       "        <iframe\n",
       "            width=\"100%\"\n",
       "            height=\"600\"\n",
       "            src=\"http://www.nature.com/news/scientific-writing-the-online-cooperative-1.16039\"\n",
       "            frameborder=\"0\"\n",
       "            allowfullscreen\n",
       "        ></iframe>\n",
       "        "
      ],
      "text/plain": [
       "<IPython.lib.display.IFrame at 0x7f4c5d5da588>"
      ]
     },
     "execution_count": 11,
     "metadata": {},
     "output_type": "execute_result"
    }
   ],
   "source": [
    "IFrame(\"http://www.nature.com/news/scientific-writing-the-online-cooperative-1.16039\", \"100%\", 600)"
   ]
  },
  {
   "cell_type": "markdown",
   "metadata": {
    "slideshow": {
     "slide_type": "slide"
    }
   },
   "source": [
    "# Programming\n",
    "\n",
    "![](images/Programming-Languages.png)"
   ]
  },
  {
   "cell_type": "markdown",
   "metadata": {
    "slideshow": {
     "slide_type": "subslide"
    }
   },
   "source": [
    "# First of all - Version Control (Git)!\n",
    "\n",
    "![](images/basic-remote-workflow.png)\n"
   ]
  },
  {
   "cell_type": "code",
   "execution_count": null,
   "metadata": {
    "collapsed": true,
    "slideshow": {
     "slide_type": "subslide"
    }
   },
   "outputs": [],
   "source": []
  }
 ],
 "metadata": {
  "celltoolbar": "Slideshow",
  "kernelspec": {
   "display_name": "Python 3",
   "language": "python",
   "name": "python3"
  },
  "language_info": {
   "codemirror_mode": {
    "name": "ipython",
    "version": 3
   },
   "file_extension": ".py",
   "mimetype": "text/x-python",
   "name": "python",
   "nbconvert_exporter": "python",
   "pygments_lexer": "ipython3",
   "version": "3.5.2"
  },
  "livereveal": {
   "theme": "Solarized",
   "transition": "fade"
  }
 },
 "nbformat": 4,
 "nbformat_minor": 0
}
