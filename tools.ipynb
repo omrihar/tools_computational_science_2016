{
 "cells": [
  {
   "cell_type": "code",
   "execution_count": 1,
   "metadata": {
    "ExecuteTime": {
     "end_time": "2016-11-11T13:51:32.291325",
     "start_time": "2016-11-11T13:51:32.270792"
    },
    "collapsed": false,
    "slideshow": {
     "slide_type": "skip"
    }
   },
   "outputs": [
    {
     "data": {
      "text/html": [
       "<link href=\"https://fonts.googleapis.com/css?family=Open+Sans:300,800|Roboto|Roboto+Condensed\" rel=\"stylesheet\">\n",
       "<style>\n",
       "    h1.my_title {\n",
       "        text-align: center;\n",
       "        display: block;\n",
       "        font-family: \"Open Sans Light\", sans-serif;\n",
       "        font-weight: 300\n",
       "    }\n",
       "    .my_name {\n",
       "        text-align: right;\n",
       "        display: block;\n",
       "        font-family: \"Open Sans\", sans-serif;\n",
       "        font-weight: 800;\n",
       "        font-size: 28px;\n",
       "        padding-bottom: 16px;\n",
       "    }\n",
       "    .my_affiliation {\n",
       "        text-align: right;\n",
       "        display: block;\n",
       "        font-family: \"Open Sans\", sans-serif;\n",
       "        font-weight: 300;\n",
       "        font-size: 28px;\n",
       "        padding-bottom:16px;\n",
       "    }\n",
       "    div.logos {\n",
       "        height: 400px;\n",
       "        text-align: left;\n",
       "        padding-top:30px;\n",
       "    }\n",
       "</style>"
      ],
      "text/plain": [
       "<IPython.core.display.HTML object>"
      ]
     },
     "metadata": {},
     "output_type": "display_data"
    }
   ],
   "source": [
    "%%html\n",
    "<link href=\"https://fonts.googleapis.com/css?family=Open+Sans:300,800|Roboto|Roboto+Condensed\" rel=\"stylesheet\">\n",
    "<style>\n",
    "    h1.my_title {\n",
    "        text-align: center;\n",
    "        display: block;\n",
    "        font-family: \"Open Sans Light\", sans-serif;\n",
    "        font-weight: 300\n",
    "    }\n",
    "    .my_name {\n",
    "        text-align: right;\n",
    "        display: block;\n",
    "        font-family: \"Open Sans\", sans-serif;\n",
    "        font-weight: 800;\n",
    "        font-size: 28px;\n",
    "        padding-bottom: 16px;\n",
    "    }\n",
    "    .my_affiliation {\n",
    "        text-align: right;\n",
    "        display: block;\n",
    "        font-family: \"Open Sans\", sans-serif;\n",
    "        font-weight: 300;\n",
    "        font-size: 28px;\n",
    "        padding-bottom:16px;\n",
    "    }\n",
    "    div.logos {\n",
    "        height: 400px;\n",
    "        text-align: left;\n",
    "        padding-top:30px;\n",
    "    }\n",
    "</style>"
   ]
  },
  {
   "cell_type": "code",
   "execution_count": 2,
   "metadata": {
    "ExecuteTime": {
     "end_time": "2016-11-11T13:51:33.052084",
     "start_time": "2016-11-11T13:51:33.021932"
    },
    "collapsed": true,
    "slideshow": {
     "slide_type": "skip"
    }
   },
   "outputs": [],
   "source": [
    "%matplotlib inline\n",
    "from IPython.display import display, display_html, IFrame\n"
   ]
  },
  {
   "cell_type": "code",
   "execution_count": null,
   "metadata": {
    "ExecuteTime": {
     "end_time": "2016-11-11T12:48:49.915509",
     "start_time": "2016-11-11T12:48:49.798129"
    },
    "collapsed": false,
    "slideshow": {
     "slide_type": "skip"
    }
   },
   "outputs": [],
   "source": [
    "from graphviz import Digraph, Graph\n",
    "\n",
    "dot = Graph(format=\"svg\")\n",
    "\n",
    "\n",
    "dot.node(\"A\", \"Computational Scientist\")\n",
    "dot.node(\"B\", \"Reading\")\n",
    "dot.node(\"C\", \"Writing\")\n",
    "dot.node(\"D\", \"Programming\")\n",
    "dot.node(\"E\", \"Presenting\")\n",
    "\n",
    "# dot.attr(\"node\", shape=\"square\")\n",
    "# dot.node(\"L\", \"Library\")\n",
    "# dot.node(\"M\", \"Mendeley\")\n",
    "# dot.node(\"G\", \"Google Scholar\")\n",
    "\n",
    "dot.edges([\"AB\", \"AC\", \"AD\", \"AE\"])\n",
    "# dot.edges([\"BL\", \"LM\", \"MG\"])\n",
    "# dot\n",
    "dot.render(\"graph\")"
   ]
  },
  {
   "cell_type": "markdown",
   "metadata": {
    "ExecuteTime": {
     "end_time": "2016-11-07T16:38:40.063209",
     "start_time": "2016-11-07T16:38:40.058375"
    },
    "slideshow": {
     "slide_type": "slide"
    }
   },
   "source": [
    "<h1 class=\"my_title\"> Tools of the Computational Scientist</h1>\n",
    "\n",
    "<div class=\"logos\">\n",
    "<img src=\"images/logos.svg\"></img>\n",
    "</div>\n",
    "\n",
    "<div id=\"affiliation\" style=\"bottom: 0;\">\n",
    "    <span class=\"my_name\">Omri Har-Shemesh</span>\n",
    "    <span class=\"my_affiliation\">PhD Candidate</span>\n",
    "    <span class=\"my_affiliation\">Computational Science Lab</span>\n",
    "</div>\n",
    "<small>[https://github.com/omrihar/tools_computational_science_2016](https://github.com/omrihar/tools_computational_science_2016)</small>"
   ]
  },
  {
   "cell_type": "markdown",
   "metadata": {
    "ExecuteTime": {
     "end_time": "2016-11-08T11:42:53.413745",
     "start_time": "2016-11-08T11:42:53.403044"
    },
    "slideshow": {
     "slide_type": "subslide"
    }
   },
   "source": [
    "<img src=\"graph.svg\" width=\"100%\"></img>"
   ]
  },
  {
   "cell_type": "markdown",
   "metadata": {
    "slideshow": {
     "slide_type": "slide"
    }
   },
   "source": [
    "# Reading\n",
    "\n",
    "![](images/library.jpg)"
   ]
  },
  {
   "cell_type": "markdown",
   "metadata": {
    "slideshow": {
     "slide_type": "subslide"
    }
   },
   "source": [
    "# Reading\n",
    "\n",
    "- Library (http://uba.uva.nl/en)\n",
    "\n",
    "- Reference Managers:\n",
    "    - [Mendeley](http://www.mendeley.com)\n",
    "    - [Zotero](http://www.zotero.org)\n",
    "    - [ReadCube](http://www.readcube.com)\n",
    "    - [Paperpile](http://www.paperpile.com)\n",
    "    - ...\n",
    "\n",
    "- [Google Scholar](http://scholar.google.com)\n",
    "- [Web of science](https://apps.webofknowledge.com/WOS_GeneralSearch_input.do?product=WOS&search_mode=GeneralSearch&SID=P2pH5das4FHHHYqVLVM&preferencesSaved=)"
   ]
  },
  {
   "cell_type": "markdown",
   "metadata": {
    "slideshow": {
     "slide_type": "slide"
    }
   },
   "source": [
    "# Writing\n",
    "\n",
    "![](images/writing.jpg)"
   ]
  },
  {
   "cell_type": "markdown",
   "metadata": {
    "slideshow": {
     "slide_type": "subslide"
    }
   },
   "source": [
    "# Writing\n",
    "\n",
    "- Text Editor\n",
    "    - Vim\n",
    "    - Emacs\n",
    "    - Sublime Text 3\n",
    "    - Atom.io\n",
    "    - PyCharm\n",
    "    - ...\n",
    "    \n",
    "- Jupyter Notebook!"
   ]
  },
  {
   "cell_type": "markdown",
   "metadata": {
    "slideshow": {
     "slide_type": "subslide"
    }
   },
   "source": [
    "# Writing\n",
    "\n",
    "- Publishing\n",
    "    - Markdown + Pandoc\n",
    "    - LaTeX\n",
    "    - Overleaf (https://www.overleaf.com)\n",
    "    - Authorea (https://www.authorea.com)\n",
    "    - shareLaTeX (https://www.sharelatex.com)\n",
    "    - Google Docs\n",
    "    - Microsoft Word\n",
    "    - ..."
   ]
  },
  {
   "cell_type": "code",
   "execution_count": 3,
   "metadata": {
    "ExecuteTime": {
     "end_time": "2016-11-11T13:51:47.815799",
     "start_time": "2016-11-11T13:51:47.808908"
    },
    "collapsed": false,
    "scrolled": false,
    "slideshow": {
     "slide_type": "subslide"
    }
   },
   "outputs": [
    {
     "data": {
      "text/html": [
       "\n",
       "        <iframe\n",
       "            width=\"100%\"\n",
       "            height=\"600\"\n",
       "            src=\"http://commonmark.org/help/\"\n",
       "            frameborder=\"0\"\n",
       "            allowfullscreen\n",
       "        ></iframe>\n",
       "        "
      ],
      "text/plain": [
       "<IPython.lib.display.IFrame at 0x7fa9bb9b0c18>"
      ]
     },
     "execution_count": 3,
     "metadata": {},
     "output_type": "execute_result"
    }
   ],
   "source": [
    "IFrame(\"http://commonmark.org/help/\", \"100%\", 600)"
   ]
  },
  {
   "cell_type": "markdown",
   "metadata": {
    "slideshow": {
     "slide_type": "subslide"
    }
   },
   "source": [
    "# Writing\n",
    "\n",
    "- Publishing\n",
    "    - Markdown + Pandoc\n",
    "    - LaTeX\n",
    "    - Overleaf (https://www.overleaf.com)\n",
    "    - Authorea (https://www.authorea.com)\n",
    "    - shareLaTeX (https://www.sharelatex.com)\n",
    "    - Google Docs\n",
    "    - Microsoft Word\n",
    "    - ..."
   ]
  },
  {
   "cell_type": "code",
   "execution_count": 4,
   "metadata": {
    "ExecuteTime": {
     "end_time": "2016-11-11T13:51:52.720440",
     "start_time": "2016-11-11T13:51:52.712974"
    },
    "collapsed": false,
    "slideshow": {
     "slide_type": "subslide"
    }
   },
   "outputs": [
    {
     "data": {
      "text/html": [
       "\n",
       "        <iframe\n",
       "            width=\"100%\"\n",
       "            height=\"600\"\n",
       "            src=\"http://www.nature.com/news/scientific-writing-the-online-cooperative-1.16039\"\n",
       "            frameborder=\"0\"\n",
       "            allowfullscreen\n",
       "        ></iframe>\n",
       "        "
      ],
      "text/plain": [
       "<IPython.lib.display.IFrame at 0x7fa9bc233f98>"
      ]
     },
     "execution_count": 4,
     "metadata": {},
     "output_type": "execute_result"
    }
   ],
   "source": [
    "IFrame(\"http://www.nature.com/news/scientific-writing-the-online-cooperative-1.16039\", \"100%\", 600)"
   ]
  },
  {
   "cell_type": "markdown",
   "metadata": {
    "slideshow": {
     "slide_type": "slide"
    }
   },
   "source": [
    "# Programming\n",
    "\n",
    "![](images/Programming-Languages.png)"
   ]
  },
  {
   "cell_type": "markdown",
   "metadata": {
    "slideshow": {
     "slide_type": "subslide"
    }
   },
   "source": [
    "# First of all - Version Control (Git)!\n",
    "\n",
    "<img src=\"images/basic-remote-workflow.png\" style=\"height:600px;\"></img>\n"
   ]
  },
  {
   "cell_type": "markdown",
   "metadata": {
    "slideshow": {
     "slide_type": "subslide"
    }
   },
   "source": [
    "# Jupyter Notebook\n",
    "\n",
    "![](images/jupyter_example.png)"
   ]
  },
  {
   "cell_type": "code",
   "execution_count": null,
   "metadata": {
    "ExecuteTime": {
     "end_time": "2016-11-11T12:48:50.440845",
     "start_time": "2016-11-11T12:48:49.924474"
    },
    "collapsed": false,
    "scrolled": false,
    "slideshow": {
     "slide_type": "subslide"
    }
   },
   "outputs": [],
   "source": [
    "import matplotlib.pyplot as plt\n",
    "import numpy as np\n",
    "import pandas as pd\n",
    "import seaborn as sns\n",
    "\n",
    "# Obtain the Anscombe dataset\n",
    "df = sns.load_dataset(\"anscombe\")\n",
    "\n",
    "df.head()"
   ]
  },
  {
   "cell_type": "code",
   "execution_count": null,
   "metadata": {
    "ExecuteTime": {
     "end_time": "2016-11-11T12:48:50.500213",
     "start_time": "2016-11-11T12:48:50.443119"
    },
    "collapsed": false,
    "slideshow": {
     "slide_type": "subslide"
    }
   },
   "outputs": [],
   "source": [
    "df.groupby(df.dataset).describe(percentiles=[]).loc[[\"I\", \"II\"]]"
   ]
  },
  {
   "cell_type": "code",
   "execution_count": null,
   "metadata": {
    "ExecuteTime": {
     "end_time": "2016-11-11T12:48:50.551455",
     "start_time": "2016-11-11T12:48:50.502543"
    },
    "collapsed": false,
    "slideshow": {
     "slide_type": "subslide"
    }
   },
   "outputs": [],
   "source": [
    "df.groupby(df.dataset).describe(percentiles=[]).loc[[\"III\", \"IV\"]]"
   ]
  },
  {
   "cell_type": "code",
   "execution_count": null,
   "metadata": {
    "ExecuteTime": {
     "end_time": "2016-11-11T12:48:50.581808",
     "start_time": "2016-11-11T12:48:50.553288"
    },
    "collapsed": false,
    "scrolled": true,
    "slideshow": {
     "slide_type": "subslide"
    }
   },
   "outputs": [],
   "source": [
    "df.groupby(df.dataset).agg(['mean', 'var'])\n",
    "df.groupby(df.dataset).corr()"
   ]
  },
  {
   "cell_type": "code",
   "execution_count": null,
   "metadata": {
    "ExecuteTime": {
     "end_time": "2016-11-11T12:48:51.430628",
     "start_time": "2016-11-11T12:48:50.585256"
    },
    "collapsed": false,
    "slideshow": {
     "slide_type": "subslide"
    }
   },
   "outputs": [],
   "source": [
    "# Show the results of a linear regression within each dataset\n",
    "sns.lmplot(x=\"x\", y=\"y\", col=\"dataset\", hue=\"dataset\", data=df,\n",
    "           col_wrap=2, ci=None, palette=\"muted\", size=4,\n",
    "           scatter_kws={\"s\": 50, \"alpha\": 1})\n",
    "plt.show()"
   ]
  },
  {
   "cell_type": "code",
   "execution_count": null,
   "metadata": {
    "ExecuteTime": {
     "end_time": "2016-11-11T12:48:51.445383",
     "start_time": "2016-11-11T12:48:51.432483"
    },
    "collapsed": false,
    "slideshow": {
     "slide_type": "subslide"
    }
   },
   "outputs": [],
   "source": [
    "# Let's build a dashboard!\n",
    "\n",
    "from IPython.display import display, Javascript\n",
    "import ipywidgets as widgets\n",
    "\n",
    "L = widgets.Label(\"Hello World\")\n",
    "display(L)"
   ]
  },
  {
   "cell_type": "code",
   "execution_count": null,
   "metadata": {
    "ExecuteTime": {
     "end_time": "2016-11-11T12:48:51.450912",
     "start_time": "2016-11-11T12:48:51.447326"
    },
    "collapsed": true,
    "slideshow": {
     "slide_type": "fragment"
    }
   },
   "outputs": [],
   "source": [
    "L.value = \"Howdy World\""
   ]
  },
  {
   "cell_type": "code",
   "execution_count": null,
   "metadata": {
    "ExecuteTime": {
     "end_time": "2016-11-11T12:48:51.538197",
     "start_time": "2016-11-11T12:48:51.452628"
    },
    "collapsed": true,
    "slideshow": {
     "slide_type": "subslide"
    }
   },
   "outputs": [],
   "source": [
    "from bqplot import Figure, Scatter, LinearScale, Axis\n",
    "                    \n",
    "\n",
    "x = df[df.dataset == \"I\"].x\n",
    "y = df[df.dataset == \"I\"].y\n",
    "x_sc = LinearScale()\n",
    "y_sc = LinearScale()\n",
    "ax_x = Axis(label=\"\", scale=x_sc)\n",
    "ax_y = Axis(label=\"\", scale=y_sc, orientation='vertical', side='left')\n",
    "\n",
    "scatter = Scatter(x=x, y=y, scales={'x': x_sc, 'y': y_sc})\n",
    "\n",
    "fig = Figure(marks=[scatter], axes=[ax_x, ax_y], title='Dataset I',\n",
    "            animation_duration=200)\n"
   ]
  },
  {
   "cell_type": "code",
   "execution_count": null,
   "metadata": {
    "ExecuteTime": {
     "end_time": "2016-11-11T12:48:51.543336",
     "start_time": "2016-11-11T12:48:51.539913"
    },
    "collapsed": true,
    "slideshow": {
     "slide_type": "subslide"
    }
   },
   "outputs": [],
   "source": [
    "display(fig)"
   ]
  },
  {
   "cell_type": "code",
   "execution_count": null,
   "metadata": {
    "ExecuteTime": {
     "end_time": "2016-11-11T12:48:51.561986",
     "start_time": "2016-11-11T12:48:51.545570"
    },
    "collapsed": true,
    "slideshow": {
     "slide_type": "fragment"
    }
   },
   "outputs": [],
   "source": [
    "scatter.x = range(11)"
   ]
  },
  {
   "cell_type": "code",
   "execution_count": null,
   "metadata": {
    "ExecuteTime": {
     "end_time": "2016-11-11T12:48:51.580096",
     "start_time": "2016-11-11T12:48:51.564901"
    },
    "collapsed": false,
    "slideshow": {
     "slide_type": "subslide"
    }
   },
   "outputs": [],
   "source": [
    "# Let's add an option to select displayed dataset...\n",
    "datasets = df.dataset.unique()\n",
    "datasets"
   ]
  },
  {
   "cell_type": "code",
   "execution_count": null,
   "metadata": {
    "ExecuteTime": {
     "end_time": "2016-11-11T12:48:51.608155",
     "start_time": "2016-11-11T12:48:51.581907"
    },
    "collapsed": false,
    "slideshow": {
     "slide_type": "fragment"
    }
   },
   "outputs": [],
   "source": [
    "# Create the select widget\n",
    "select_dataset = widgets.Dropdown(options=list(datasets))\n",
    "display(select_dataset)"
   ]
  },
  {
   "cell_type": "code",
   "execution_count": null,
   "metadata": {
    "ExecuteTime": {
     "end_time": "2016-11-11T12:48:51.617272",
     "start_time": "2016-11-11T12:48:51.611279"
    },
    "collapsed": true,
    "slideshow": {
     "slide_type": "fragment"
    }
   },
   "outputs": [],
   "source": [
    "# Code to run when a selection is made\n",
    "def _on_select(obj):\n",
    "    selected = obj['new']\n",
    "    scatter.x = df[df.dataset == selected].x\n",
    "    scatter.y = df[df.dataset == selected].y\n",
    "    fig.title = \"Dataset %s\" % selected\n",
    "    \n",
    "select_dataset.observe(_on_select, 'value')"
   ]
  },
  {
   "cell_type": "code",
   "execution_count": null,
   "metadata": {
    "ExecuteTime": {
     "end_time": "2016-11-11T12:48:51.648772",
     "start_time": "2016-11-11T12:48:51.619294"
    },
    "collapsed": true,
    "slideshow": {
     "slide_type": "subslide"
    }
   },
   "outputs": [],
   "source": [
    "# Putting it all together\n",
    "from ipywidgets import HBox, VBox\n",
    "display(VBox([fig, HBox([widgets.Label(\"Select Dataset: \"), select_dataset])]))"
   ]
  },
  {
   "cell_type": "markdown",
   "metadata": {
    "slideshow": {
     "slide_type": "slide"
    }
   },
   "source": [
    "# Presenting\n",
    "\n",
    "- Powerpoint\n",
    "- Prezi\n",
    "- LaTeX (Beamer class, for example)\n",
    "- Jupyter Notebook! (These slides, for example)"
   ]
  },
  {
   "cell_type": "markdown",
   "metadata": {
    "slideshow": {
     "slide_type": "subslide"
    }
   },
   "source": [
    "# Take home messages\n",
    "\n",
    "1. Use a reference manager!\n",
    "\n",
    "2. Use a version control system (git)!\n",
    "\n",
    "3. Learn Markdown.\n",
    "\n",
    "4. Python Python Python.\n",
    "\n",
    "5. Jupyter Notebook"
   ]
  },
  {
   "cell_type": "markdown",
   "metadata": {
    "ExecuteTime": {
     "end_time": "2016-11-08T17:38:28.975318",
     "start_time": "2016-11-08T17:38:28.970237"
    },
    "slideshow": {
     "slide_type": "slide"
    }
   },
   "source": [
    "# Thank you very much for your attention!"
   ]
  }
 ],
 "metadata": {
  "celltoolbar": "Slideshow",
  "kernelspec": {
   "display_name": "Python 3",
   "language": "python",
   "name": "python3"
  },
  "language_info": {
   "codemirror_mode": {
    "name": "ipython",
    "version": 3
   },
   "file_extension": ".py",
   "mimetype": "text/x-python",
   "name": "python",
   "nbconvert_exporter": "python",
   "pygments_lexer": "ipython3",
   "version": "3.5.2"
  },
  "livereveal": {
   "theme": "Solarized",
   "transition": "fade"
  }
 },
 "nbformat": 4,
 "nbformat_minor": 0
}
