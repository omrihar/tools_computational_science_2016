{
 "cells": [
  {
   "cell_type": "code",
   "execution_count": 1,
   "metadata": {
    "ExecuteTime": {
     "end_time": "2016-11-08T17:41:07.706419",
     "start_time": "2016-11-08T17:41:07.683701"
    },
    "collapsed": false,
    "slideshow": {
     "slide_type": "skip"
    }
   },
   "outputs": [
    {
     "data": {
      "text/html": [
       "<link href=\"https://fonts.googleapis.com/css?family=Open+Sans:300,800|Roboto|Roboto+Condensed\" rel=\"stylesheet\">\n",
       "<style>\n",
       "    h1.my_title {\n",
       "        text-align: center;\n",
       "        display: block;\n",
       "        font-family: \"Open Sans Light\", sans-serif;\n",
       "        font-weight: 300\n",
       "    }\n",
       "    .my_name {\n",
       "        text-align: right;\n",
       "        display: block;\n",
       "        font-family: \"Open Sans\", sans-serif;\n",
       "        font-weight: 800;\n",
       "        font-size: 28px;\n",
       "        padding-bottom: 16px;\n",
       "    }\n",
       "    .my_affiliation {\n",
       "        text-align: right;\n",
       "        display: block;\n",
       "        font-family: \"Open Sans\", sans-serif;\n",
       "        font-weight: 300;\n",
       "        font-size: 28px;\n",
       "        padding-bottom:16px;\n",
       "    }\n",
       "    div.logos {\n",
       "        height: 400px;\n",
       "        text-align: left;\n",
       "        padding-top:30px;\n",
       "    }\n",
       "</style>"
      ],
      "text/plain": [
       "<IPython.core.display.HTML object>"
      ]
     },
     "metadata": {},
     "output_type": "display_data"
    }
   ],
   "source": [
    "%%html\n",
    "<link href=\"https://fonts.googleapis.com/css?family=Open+Sans:300,800|Roboto|Roboto+Condensed\" rel=\"stylesheet\">\n",
    "<style>\n",
    "    h1.my_title {\n",
    "        text-align: center;\n",
    "        display: block;\n",
    "        font-family: \"Open Sans Light\", sans-serif;\n",
    "        font-weight: 300\n",
    "    }\n",
    "    .my_name {\n",
    "        text-align: right;\n",
    "        display: block;\n",
    "        font-family: \"Open Sans\", sans-serif;\n",
    "        font-weight: 800;\n",
    "        font-size: 28px;\n",
    "        padding-bottom: 16px;\n",
    "    }\n",
    "    .my_affiliation {\n",
    "        text-align: right;\n",
    "        display: block;\n",
    "        font-family: \"Open Sans\", sans-serif;\n",
    "        font-weight: 300;\n",
    "        font-size: 28px;\n",
    "        padding-bottom:16px;\n",
    "    }\n",
    "    div.logos {\n",
    "        height: 400px;\n",
    "        text-align: left;\n",
    "        padding-top:30px;\n",
    "    }\n",
    "</style>"
   ]
  },
  {
   "cell_type": "code",
   "execution_count": 2,
   "metadata": {
    "ExecuteTime": {
     "end_time": "2016-11-08T17:41:10.472763",
     "start_time": "2016-11-08T17:41:10.393823"
    },
    "collapsed": true,
    "slideshow": {
     "slide_type": "skip"
    }
   },
   "outputs": [],
   "source": [
    "%matplotlib inline\n",
    "from IPython.display import display, display_html, IFrame\n"
   ]
  },
  {
   "cell_type": "code",
   "execution_count": null,
   "metadata": {
    "ExecuteTime": {
     "end_time": "2016-11-08T13:15:47.096011",
     "start_time": "2016-11-08T13:15:46.969388"
    },
    "collapsed": false,
    "slideshow": {
     "slide_type": "skip"
    }
   },
   "outputs": [],
   "source": [
    "from graphviz import Digraph, Graph\n",
    "\n",
    "dot = Graph(format=\"svg\")\n",
    "\n",
    "\n",
    "dot.node(\"A\", \"Computational Scientist\")\n",
    "dot.node(\"B\", \"Reading\")\n",
    "dot.node(\"C\", \"Writing\")\n",
    "dot.node(\"D\", \"Programming\")\n",
    "dot.node(\"E\", \"Presenting\")\n",
    "\n",
    "# dot.attr(\"node\", shape=\"square\")\n",
    "# dot.node(\"L\", \"Library\")\n",
    "# dot.node(\"M\", \"Mendeley\")\n",
    "# dot.node(\"G\", \"Google Scholar\")\n",
    "\n",
    "dot.edges([\"AB\", \"AC\", \"AD\", \"AE\"])\n",
    "# dot.edges([\"BL\", \"LM\", \"MG\"])\n",
    "# dot\n",
    "dot.render(\"graph\")"
   ]
  },
  {
   "cell_type": "markdown",
   "metadata": {
    "ExecuteTime": {
     "end_time": "2016-11-07T16:38:40.063209",
     "start_time": "2016-11-07T16:38:40.058375"
    },
    "slideshow": {
     "slide_type": "slide"
    }
   },
   "source": [
    "<h1 class=\"my_title\"> Tools of the Computational Scientist</h1>\n",
    "\n",
    "<div class=\"logos\">\n",
    "<img src=\"images/logos.svg\"></img>\n",
    "</div>\n",
    "\n",
    "<div id=\"affiliation\" style=\"bottom: 0;\">\n",
    "    <span class=\"my_name\">Omri Har-Shemesh</span>\n",
    "    <span class=\"my_affiliation\">PhD Candidate</span>\n",
    "    <span class=\"my_affiliation\">Computational Science Lab</span>\n",
    "</div>\n",
    "<small>[https://github.com/omrihar/tools_computational_science_2016](https://github.com/omrihar/tools_computational_science_2016)</small>"
   ]
  },
  {
   "cell_type": "markdown",
   "metadata": {
    "ExecuteTime": {
     "end_time": "2016-11-08T11:42:53.413745",
     "start_time": "2016-11-08T11:42:53.403044"
    },
    "slideshow": {
     "slide_type": "subslide"
    }
   },
   "source": [
    "<img src=\"graph.svg\" width=\"100%\"></img>"
   ]
  },
  {
   "cell_type": "markdown",
   "metadata": {
    "slideshow": {
     "slide_type": "subslide"
    }
   },
   "source": [
    "# Take home messages\n",
    "\n",
    "1. Use a reference manager!\n",
    "\n",
    "2. Use a version control system (git)!\n",
    "\n",
    "3. Learn Markdown.\n",
    "\n",
    "4. Python Python Python.\n",
    "\n",
    "5. Jupyter Notebook"
   ]
  },
  {
   "cell_type": "markdown",
   "metadata": {
    "slideshow": {
     "slide_type": "slide"
    }
   },
   "source": [
    "# Reading\n",
    "\n",
    "![](images/library.jpg)"
   ]
  },
  {
   "cell_type": "markdown",
   "metadata": {
    "slideshow": {
     "slide_type": "subslide"
    }
   },
   "source": [
    "# Reading\n",
    "\n",
    "- Library (http://uba.uva.nl/en)\n",
    "\n",
    "- Reference Managers:\n",
    "    - [Mendeley](http://www.mendeley.com)\n",
    "    - [Zotero](http://www.zotero.org)\n",
    "    - [ReadCube](http://www.readcube.com)\n",
    "    - [Paperpile](http://www.paperpile.com)\n",
    "    - ...\n",
    "\n",
    "- [Google Scholar](http://scholar.google.com)\n",
    "- [Web of science](https://apps.webofknowledge.com/WOS_GeneralSearch_input.do?product=WOS&search_mode=GeneralSearch&SID=P2pH5das4FHHHYqVLVM&preferencesSaved=)"
   ]
  },
  {
   "cell_type": "markdown",
   "metadata": {
    "slideshow": {
     "slide_type": "slide"
    }
   },
   "source": [
    "# Writing\n",
    "\n",
    "![](images/writing.jpg)"
   ]
  },
  {
   "cell_type": "markdown",
   "metadata": {
    "slideshow": {
     "slide_type": "subslide"
    }
   },
   "source": [
    "# Writing\n",
    "\n",
    "- Text Editor\n",
    "    - Vim\n",
    "    - Emacs\n",
    "    - Sublime Text 3\n",
    "    - Atom.io\n",
    "    - PyCharm\n",
    "    - ...\n",
    "    \n",
    "- Jupyter Notebook!"
   ]
  },
  {
   "cell_type": "markdown",
   "metadata": {
    "slideshow": {
     "slide_type": "subslide"
    }
   },
   "source": [
    "# Writing\n",
    "\n",
    "- Writing text\n",
    "    - Markdown + Pandoc\n",
    "    - LaTeX\n",
    "    - Overleaf (https://www.overleaf.com)\n",
    "    - Authorea (https://www.authorea.com)\n",
    "    - shareLaTeX\n",
    "    - Google Docs\n",
    "    - Microsoft Word\n",
    "    - ..."
   ]
  },
  {
   "cell_type": "code",
   "execution_count": 3,
   "metadata": {
    "ExecuteTime": {
     "end_time": "2016-11-08T17:41:27.945175",
     "start_time": "2016-11-08T17:41:27.935973"
    },
    "collapsed": false,
    "slideshow": {
     "slide_type": "subslide"
    }
   },
   "outputs": [
    {
     "data": {
      "text/html": [
       "\n",
       "        <iframe\n",
       "            width=\"100%\"\n",
       "            height=\"600\"\n",
       "            src=\"http://www.nature.com/news/scientific-writing-the-online-cooperative-1.16039\"\n",
       "            frameborder=\"0\"\n",
       "            allowfullscreen\n",
       "        ></iframe>\n",
       "        "
      ],
      "text/plain": [
       "<IPython.lib.display.IFrame at 0x7f19b996a320>"
      ]
     },
     "execution_count": 3,
     "metadata": {},
     "output_type": "execute_result"
    }
   ],
   "source": [
    "IFrame(\"http://www.nature.com/news/scientific-writing-the-online-cooperative-1.16039\", \"100%\", 600)"
   ]
  },
  {
   "cell_type": "markdown",
   "metadata": {
    "slideshow": {
     "slide_type": "slide"
    }
   },
   "source": [
    "# Programming\n",
    "\n",
    "![](images/Programming-Languages.png)"
   ]
  },
  {
   "cell_type": "markdown",
   "metadata": {
    "slideshow": {
     "slide_type": "subslide"
    }
   },
   "source": [
    "# First of all - Version Control (Git)!\n",
    "\n",
    "<img src=\"images/basic-remote-workflow.png\" style=\"height:600px;\"></img>\n"
   ]
  },
  {
   "cell_type": "markdown",
   "metadata": {
    "slideshow": {
     "slide_type": "subslide"
    }
   },
   "source": [
    "# Jupyter Notebook\n",
    "\n",
    "![](images/jupyter_example.png)"
   ]
  },
  {
   "cell_type": "code",
   "execution_count": 4,
   "metadata": {
    "ExecuteTime": {
     "end_time": "2016-11-08T17:42:36.447670",
     "start_time": "2016-11-08T17:42:35.953253"
    },
    "collapsed": false,
    "slideshow": {
     "slide_type": "subslide"
    }
   },
   "outputs": [
    {
     "data": {
      "text/html": [
       "<div>\n",
       "<table border=\"1\" class=\"dataframe\">\n",
       "  <thead>\n",
       "    <tr style=\"text-align: right;\">\n",
       "      <th></th>\n",
       "      <th>dataset</th>\n",
       "      <th>x</th>\n",
       "      <th>y</th>\n",
       "    </tr>\n",
       "  </thead>\n",
       "  <tbody>\n",
       "    <tr>\n",
       "      <th>0</th>\n",
       "      <td>I</td>\n",
       "      <td>10.0</td>\n",
       "      <td>8.04</td>\n",
       "    </tr>\n",
       "    <tr>\n",
       "      <th>1</th>\n",
       "      <td>I</td>\n",
       "      <td>8.0</td>\n",
       "      <td>6.95</td>\n",
       "    </tr>\n",
       "    <tr>\n",
       "      <th>2</th>\n",
       "      <td>I</td>\n",
       "      <td>13.0</td>\n",
       "      <td>7.58</td>\n",
       "    </tr>\n",
       "    <tr>\n",
       "      <th>3</th>\n",
       "      <td>I</td>\n",
       "      <td>9.0</td>\n",
       "      <td>8.81</td>\n",
       "    </tr>\n",
       "    <tr>\n",
       "      <th>4</th>\n",
       "      <td>I</td>\n",
       "      <td>11.0</td>\n",
       "      <td>8.33</td>\n",
       "    </tr>\n",
       "  </tbody>\n",
       "</table>\n",
       "</div>"
      ],
      "text/plain": [
       "  dataset     x     y\n",
       "0       I  10.0  8.04\n",
       "1       I   8.0  6.95\n",
       "2       I  13.0  7.58\n",
       "3       I   9.0  8.81\n",
       "4       I  11.0  8.33"
      ]
     },
     "execution_count": 4,
     "metadata": {},
     "output_type": "execute_result"
    }
   ],
   "source": [
    "import matplotlib.pyplot as plt\n",
    "import numpy as np\n",
    "import pandas as pd\n",
    "import seaborn as sns\n",
    "\n",
    "# Obtain the Anscombe dataset\n",
    "df = sns.load_dataset(\"anscombe\")\n",
    "\n",
    "df.head()"
   ]
  },
  {
   "cell_type": "code",
   "execution_count": 5,
   "metadata": {
    "ExecuteTime": {
     "end_time": "2016-11-08T17:42:45.351021",
     "start_time": "2016-11-08T17:42:45.277510"
    },
    "collapsed": false,
    "slideshow": {
     "slide_type": "subslide"
    }
   },
   "outputs": [
    {
     "data": {
      "text/html": [
       "<div>\n",
       "<table border=\"1\" class=\"dataframe\">\n",
       "  <thead>\n",
       "    <tr style=\"text-align: right;\">\n",
       "      <th></th>\n",
       "      <th></th>\n",
       "      <th>x</th>\n",
       "      <th>y</th>\n",
       "    </tr>\n",
       "    <tr>\n",
       "      <th>dataset</th>\n",
       "      <th></th>\n",
       "      <th></th>\n",
       "      <th></th>\n",
       "    </tr>\n",
       "  </thead>\n",
       "  <tbody>\n",
       "    <tr>\n",
       "      <th rowspan=\"6\" valign=\"top\">I</th>\n",
       "      <th>count</th>\n",
       "      <td>11.000000</td>\n",
       "      <td>11.000000</td>\n",
       "    </tr>\n",
       "    <tr>\n",
       "      <th>mean</th>\n",
       "      <td>9.000000</td>\n",
       "      <td>7.500909</td>\n",
       "    </tr>\n",
       "    <tr>\n",
       "      <th>std</th>\n",
       "      <td>3.316625</td>\n",
       "      <td>2.031568</td>\n",
       "    </tr>\n",
       "    <tr>\n",
       "      <th>min</th>\n",
       "      <td>4.000000</td>\n",
       "      <td>4.260000</td>\n",
       "    </tr>\n",
       "    <tr>\n",
       "      <th>50%</th>\n",
       "      <td>9.000000</td>\n",
       "      <td>7.580000</td>\n",
       "    </tr>\n",
       "    <tr>\n",
       "      <th>max</th>\n",
       "      <td>14.000000</td>\n",
       "      <td>10.840000</td>\n",
       "    </tr>\n",
       "    <tr>\n",
       "      <th rowspan=\"6\" valign=\"top\">II</th>\n",
       "      <th>count</th>\n",
       "      <td>11.000000</td>\n",
       "      <td>11.000000</td>\n",
       "    </tr>\n",
       "    <tr>\n",
       "      <th>mean</th>\n",
       "      <td>9.000000</td>\n",
       "      <td>7.500909</td>\n",
       "    </tr>\n",
       "    <tr>\n",
       "      <th>std</th>\n",
       "      <td>3.316625</td>\n",
       "      <td>2.031657</td>\n",
       "    </tr>\n",
       "    <tr>\n",
       "      <th>min</th>\n",
       "      <td>4.000000</td>\n",
       "      <td>3.100000</td>\n",
       "    </tr>\n",
       "    <tr>\n",
       "      <th>50%</th>\n",
       "      <td>9.000000</td>\n",
       "      <td>8.140000</td>\n",
       "    </tr>\n",
       "    <tr>\n",
       "      <th>max</th>\n",
       "      <td>14.000000</td>\n",
       "      <td>9.260000</td>\n",
       "    </tr>\n",
       "  </tbody>\n",
       "</table>\n",
       "</div>"
      ],
      "text/plain": [
       "                       x          y\n",
       "dataset                            \n",
       "I       count  11.000000  11.000000\n",
       "        mean    9.000000   7.500909\n",
       "        std     3.316625   2.031568\n",
       "        min     4.000000   4.260000\n",
       "        50%     9.000000   7.580000\n",
       "        max    14.000000  10.840000\n",
       "II      count  11.000000  11.000000\n",
       "        mean    9.000000   7.500909\n",
       "        std     3.316625   2.031657\n",
       "        min     4.000000   3.100000\n",
       "        50%     9.000000   8.140000\n",
       "        max    14.000000   9.260000"
      ]
     },
     "execution_count": 5,
     "metadata": {},
     "output_type": "execute_result"
    }
   ],
   "source": [
    "df.groupby(df.dataset).describe(percentiles=[]).loc[[\"I\", \"II\"]]"
   ]
  },
  {
   "cell_type": "code",
   "execution_count": 6,
   "metadata": {
    "ExecuteTime": {
     "end_time": "2016-11-08T17:42:51.893626",
     "start_time": "2016-11-08T17:42:51.821054"
    },
    "collapsed": false,
    "slideshow": {
     "slide_type": "subslide"
    }
   },
   "outputs": [
    {
     "data": {
      "text/html": [
       "<div>\n",
       "<table border=\"1\" class=\"dataframe\">\n",
       "  <thead>\n",
       "    <tr style=\"text-align: right;\">\n",
       "      <th></th>\n",
       "      <th></th>\n",
       "      <th>x</th>\n",
       "      <th>y</th>\n",
       "    </tr>\n",
       "    <tr>\n",
       "      <th>dataset</th>\n",
       "      <th></th>\n",
       "      <th></th>\n",
       "      <th></th>\n",
       "    </tr>\n",
       "  </thead>\n",
       "  <tbody>\n",
       "    <tr>\n",
       "      <th rowspan=\"6\" valign=\"top\">III</th>\n",
       "      <th>count</th>\n",
       "      <td>11.000000</td>\n",
       "      <td>11.000000</td>\n",
       "    </tr>\n",
       "    <tr>\n",
       "      <th>mean</th>\n",
       "      <td>9.000000</td>\n",
       "      <td>7.500000</td>\n",
       "    </tr>\n",
       "    <tr>\n",
       "      <th>std</th>\n",
       "      <td>3.316625</td>\n",
       "      <td>2.030424</td>\n",
       "    </tr>\n",
       "    <tr>\n",
       "      <th>min</th>\n",
       "      <td>4.000000</td>\n",
       "      <td>5.390000</td>\n",
       "    </tr>\n",
       "    <tr>\n",
       "      <th>50%</th>\n",
       "      <td>9.000000</td>\n",
       "      <td>7.110000</td>\n",
       "    </tr>\n",
       "    <tr>\n",
       "      <th>max</th>\n",
       "      <td>14.000000</td>\n",
       "      <td>12.740000</td>\n",
       "    </tr>\n",
       "    <tr>\n",
       "      <th rowspan=\"6\" valign=\"top\">IV</th>\n",
       "      <th>count</th>\n",
       "      <td>11.000000</td>\n",
       "      <td>11.000000</td>\n",
       "    </tr>\n",
       "    <tr>\n",
       "      <th>mean</th>\n",
       "      <td>9.000000</td>\n",
       "      <td>7.500909</td>\n",
       "    </tr>\n",
       "    <tr>\n",
       "      <th>std</th>\n",
       "      <td>3.316625</td>\n",
       "      <td>2.030579</td>\n",
       "    </tr>\n",
       "    <tr>\n",
       "      <th>min</th>\n",
       "      <td>8.000000</td>\n",
       "      <td>5.250000</td>\n",
       "    </tr>\n",
       "    <tr>\n",
       "      <th>50%</th>\n",
       "      <td>8.000000</td>\n",
       "      <td>7.040000</td>\n",
       "    </tr>\n",
       "    <tr>\n",
       "      <th>max</th>\n",
       "      <td>19.000000</td>\n",
       "      <td>12.500000</td>\n",
       "    </tr>\n",
       "  </tbody>\n",
       "</table>\n",
       "</div>"
      ],
      "text/plain": [
       "                       x          y\n",
       "dataset                            \n",
       "III     count  11.000000  11.000000\n",
       "        mean    9.000000   7.500000\n",
       "        std     3.316625   2.030424\n",
       "        min     4.000000   5.390000\n",
       "        50%     9.000000   7.110000\n",
       "        max    14.000000  12.740000\n",
       "IV      count  11.000000  11.000000\n",
       "        mean    9.000000   7.500909\n",
       "        std     3.316625   2.030579\n",
       "        min     8.000000   5.250000\n",
       "        50%     8.000000   7.040000\n",
       "        max    19.000000  12.500000"
      ]
     },
     "execution_count": 6,
     "metadata": {},
     "output_type": "execute_result"
    }
   ],
   "source": [
    "df.groupby(df.dataset).describe(percentiles=[]).loc[[\"III\", \"IV\"]]"
   ]
  },
  {
   "cell_type": "code",
   "execution_count": 9,
   "metadata": {
    "ExecuteTime": {
     "end_time": "2016-11-08T17:43:50.516713",
     "start_time": "2016-11-08T17:43:50.461139"
    },
    "collapsed": false,
    "slideshow": {
     "slide_type": "subslide"
    }
   },
   "outputs": [
    {
     "data": {
      "text/html": [
       "<div>\n",
       "<table border=\"1\" class=\"dataframe\">\n",
       "  <thead>\n",
       "    <tr>\n",
       "      <th></th>\n",
       "      <th colspan=\"4\" halign=\"left\">x</th>\n",
       "      <th colspan=\"4\" halign=\"left\">y</th>\n",
       "    </tr>\n",
       "    <tr>\n",
       "      <th></th>\n",
       "      <th>mean</th>\n",
       "      <th>var</th>\n",
       "      <th>max</th>\n",
       "      <th>min</th>\n",
       "      <th>mean</th>\n",
       "      <th>var</th>\n",
       "      <th>max</th>\n",
       "      <th>min</th>\n",
       "    </tr>\n",
       "    <tr>\n",
       "      <th>dataset</th>\n",
       "      <th></th>\n",
       "      <th></th>\n",
       "      <th></th>\n",
       "      <th></th>\n",
       "      <th></th>\n",
       "      <th></th>\n",
       "      <th></th>\n",
       "      <th></th>\n",
       "    </tr>\n",
       "  </thead>\n",
       "  <tbody>\n",
       "    <tr>\n",
       "      <th>I</th>\n",
       "      <td>9.0</td>\n",
       "      <td>11.0</td>\n",
       "      <td>14.0</td>\n",
       "      <td>4.0</td>\n",
       "      <td>7.500909</td>\n",
       "      <td>4.127269</td>\n",
       "      <td>10.84</td>\n",
       "      <td>4.26</td>\n",
       "    </tr>\n",
       "    <tr>\n",
       "      <th>II</th>\n",
       "      <td>9.0</td>\n",
       "      <td>11.0</td>\n",
       "      <td>14.0</td>\n",
       "      <td>4.0</td>\n",
       "      <td>7.500909</td>\n",
       "      <td>4.127629</td>\n",
       "      <td>9.26</td>\n",
       "      <td>3.10</td>\n",
       "    </tr>\n",
       "    <tr>\n",
       "      <th>III</th>\n",
       "      <td>9.0</td>\n",
       "      <td>11.0</td>\n",
       "      <td>14.0</td>\n",
       "      <td>4.0</td>\n",
       "      <td>7.500000</td>\n",
       "      <td>4.122620</td>\n",
       "      <td>12.74</td>\n",
       "      <td>5.39</td>\n",
       "    </tr>\n",
       "    <tr>\n",
       "      <th>IV</th>\n",
       "      <td>9.0</td>\n",
       "      <td>11.0</td>\n",
       "      <td>19.0</td>\n",
       "      <td>8.0</td>\n",
       "      <td>7.500909</td>\n",
       "      <td>4.123249</td>\n",
       "      <td>12.50</td>\n",
       "      <td>5.25</td>\n",
       "    </tr>\n",
       "  </tbody>\n",
       "</table>\n",
       "</div>"
      ],
      "text/plain": [
       "           x                          y                       \n",
       "        mean   var   max  min      mean       var    max   min\n",
       "dataset                                                       \n",
       "I        9.0  11.0  14.0  4.0  7.500909  4.127269  10.84  4.26\n",
       "II       9.0  11.0  14.0  4.0  7.500909  4.127629   9.26  3.10\n",
       "III      9.0  11.0  14.0  4.0  7.500000  4.122620  12.74  5.39\n",
       "IV       9.0  11.0  19.0  8.0  7.500909  4.123249  12.50  5.25"
      ]
     },
     "execution_count": 9,
     "metadata": {},
     "output_type": "execute_result"
    }
   ],
   "source": [
    "df.groupby(df.dataset).agg(['mean', 'var', 'max', 'min'])\n",
    "# df.groupby(df.dataset).corr()"
   ]
  },
  {
   "cell_type": "code",
   "execution_count": 10,
   "metadata": {
    "ExecuteTime": {
     "end_time": "2016-11-08T17:43:57.067781",
     "start_time": "2016-11-08T17:43:56.302812"
    },
    "collapsed": false,
    "slideshow": {
     "slide_type": "subslide"
    }
   },
   "outputs": [
    {
     "data": {
      "image/png": "[encoded data removed]",
      "text/plain": [
       "<matplotlib.figure.Figure at 0x7f19adba31d0>"
      ]
     },
     "metadata": {},
     "output_type": "display_data"
    }
   ],
   "source": [
    "# Show the results of a linear regression within each dataset\n",
    "sns.lmplot(x=\"x\", y=\"y\", col=\"dataset\", hue=\"dataset\", data=df,\n",
    "           col_wrap=2, ci=None, palette=\"muted\", size=4,\n",
    "           scatter_kws={\"s\": 50, \"alpha\": 1})\n",
    "plt.show()"
   ]
  },
  {
   "cell_type": "code",
   "execution_count": 11,
   "metadata": {
    "ExecuteTime": {
     "end_time": "2016-11-08T17:44:33.068779",
     "start_time": "2016-11-08T17:44:32.999440"
    },
    "collapsed": false,
    "slideshow": {
     "slide_type": "subslide"
    }
   },
   "outputs": [],
   "source": [
    "# Let's build a dashboard!\n",
    "\n",
    "from IPython.display import display, Javascript\n",
    "import ipywidgets as widgets\n",
    "\n",
    "L = widgets.Label(\"Hello World\")\n",
    "display(L)"
   ]
  },
  {
   "cell_type": "code",
   "execution_count": 20,
   "metadata": {
    "ExecuteTime": {
     "end_time": "2016-11-09T11:45:09.716827",
     "start_time": "2016-11-09T11:45:09.711983"
    },
    "collapsed": true,
    "slideshow": {
     "slide_type": "fragment"
    }
   },
   "outputs": [],
   "source": [
    "L.value = \"Hello World\""
   ]
  },
  {
   "cell_type": "code",
   "execution_count": 13,
   "metadata": {
    "ExecuteTime": {
     "end_time": "2016-11-08T17:44:57.047824",
     "start_time": "2016-11-08T17:44:56.967143"
    },
    "collapsed": true,
    "slideshow": {
     "slide_type": "subslide"
    }
   },
   "outputs": [],
   "source": [
    "from bqplot import Figure, Scatter, LinearScale, Axis\n",
    "                    \n",
    "\n",
    "x = df[df.dataset == \"I\"].x\n",
    "y = df[df.dataset == \"I\"].y\n",
    "x_sc = LinearScale()\n",
    "y_sc = LinearScale()\n",
    "ax_x = Axis(label=\"\", scale=x_sc)\n",
    "ax_y = Axis(label=\"\", scale=y_sc, orientation='vertical', side='left')\n",
    "\n",
    "scatter = Scatter(x=x, y=y, scales={'x': x_sc, 'y': y_sc})\n",
    "\n",
    "fig = Figure(marks=[scatter], axes=[ax_x, ax_y], title='Dataset I',\n",
    "            animation_duration=200)\n"
   ]
  },
  {
   "cell_type": "code",
   "execution_count": 14,
   "metadata": {
    "ExecuteTime": {
     "end_time": "2016-11-08T17:45:02.865671",
     "start_time": "2016-11-08T17:45:02.859155"
    },
    "collapsed": true,
    "slideshow": {
     "slide_type": "subslide"
    }
   },
   "outputs": [],
   "source": [
    "display(fig)"
   ]
  },
  {
   "cell_type": "code",
   "execution_count": 15,
   "metadata": {
    "ExecuteTime": {
     "end_time": "2016-11-08T17:45:20.338029",
     "start_time": "2016-11-08T17:45:20.332503"
    },
    "collapsed": true,
    "slideshow": {
     "slide_type": "fragment"
    }
   },
   "outputs": [],
   "source": [
    "scatter.x = range(11)"
   ]
  },
  {
   "cell_type": "code",
   "execution_count": 16,
   "metadata": {
    "ExecuteTime": {
     "end_time": "2016-11-08T17:45:26.555299",
     "start_time": "2016-11-08T17:45:26.550887"
    },
    "collapsed": false,
    "slideshow": {
     "slide_type": "subslide"
    }
   },
   "outputs": [
    {
     "data": {
      "text/plain": [
       "array(['I', 'II', 'III', 'IV'], dtype=object)"
      ]
     },
     "execution_count": 16,
     "metadata": {},
     "output_type": "execute_result"
    }
   ],
   "source": [
    "# Let's add an option to select displayed dataset...\n",
    "datasets = df.dataset.unique()\n",
    "datasets"
   ]
  },
  {
   "cell_type": "code",
   "execution_count": 17,
   "metadata": {
    "ExecuteTime": {
     "end_time": "2016-11-08T17:45:33.659489",
     "start_time": "2016-11-08T17:45:33.636762"
    },
    "collapsed": false,
    "slideshow": {
     "slide_type": "fragment"
    }
   },
   "outputs": [],
   "source": [
    "# Create the select widget\n",
    "select_dataset = widgets.Dropdown(options=list(datasets))\n",
    "display(select_dataset)"
   ]
  },
  {
   "cell_type": "code",
   "execution_count": 18,
   "metadata": {
    "ExecuteTime": {
     "end_time": "2016-11-08T17:45:52.149544",
     "start_time": "2016-11-08T17:45:52.137636"
    },
    "collapsed": true,
    "slideshow": {
     "slide_type": "fragment"
    }
   },
   "outputs": [],
   "source": [
    "# Code to run when a selection is made\n",
    "def _on_select(obj):\n",
    "    selected = obj['new']\n",
    "    scatter.x = df[df.dataset == selected].x\n",
    "    scatter.y = df[df.dataset == selected].y\n",
    "    fig.title = \"Dataset %s\" % selected\n",
    "    \n",
    "select_dataset.observe(_on_select, 'value')"
   ]
  },
  {
   "cell_type": "code",
   "execution_count": 19,
   "metadata": {
    "ExecuteTime": {
     "end_time": "2016-11-08T17:46:00.204796",
     "start_time": "2016-11-08T17:46:00.159370"
    },
    "collapsed": true,
    "slideshow": {
     "slide_type": "subslide"
    }
   },
   "outputs": [],
   "source": [
    "# Putting it all together\n",
    "from ipywidgets import HBox, VBox\n",
    "display(VBox([fig, HBox([widgets.Label(\"Select Dataset: \"), select_dataset])]))"
   ]
  },
  {
   "cell_type": "markdown",
   "metadata": {
    "slideshow": {
     "slide_type": "slide"
    }
   },
   "source": [
    "# Presenting\n",
    "\n",
    "- Powerpoint\n",
    "- Prezi\n",
    "- LaTeX (Beamer class, for example)\n",
    "- Jupyter Notebook! (These slides, for example)"
   ]
  },
  {
   "cell_type": "markdown",
   "metadata": {
    "ExecuteTime": {
     "end_time": "2016-11-08T17:38:28.975318",
     "start_time": "2016-11-08T17:38:28.970237"
    },
    "slideshow": {
     "slide_type": "slide"
    }
   },
   "source": [
    "# Thank you very much for your attention!"
   ]
  }
 ],
 "metadata": {
  "celltoolbar": "Slideshow",
  "kernelspec": {
   "display_name": "Python 3",
   "language": "python",
   "name": "python3"
  },
  "language_info": {
   "codemirror_mode": {
    "name": "ipython",
    "version": 3
   },
   "file_extension": ".py",
   "mimetype": "text/x-python",
   "name": "python",
   "nbconvert_exporter": "python",
   "pygments_lexer": "ipython3",
   "version": "3.5.2"
  },
  "livereveal": {
   "theme": "Solarized",
   "transition": "fade"
  },
  "widgets": {
   "state": {
    "22f8e4faa60e44748f90fa1df3ea2f2c": {
     "views": [
      {
       "cell_index": 22
      }
     ]
    },
    "50f0d07a5f7047c3a3ee7b5d0f3aa2bc": {
     "views": [
      {
       "cell_index": 25
      }
     ]
    },
    "54356af43d3345839d05b0eae6fc8fd1": {
     "views": [
      {
       "cell_index": 19
      }
     ]
    },
    "b1b6784bce2b491186ffb968393de4b5": {
     "views": [
      {
       "cell_index": 27
      }
     ]
    }
   },
   "version": "1.2.0"
  }
 },
 "nbformat": 4,
 "nbformat_minor": 0
}
